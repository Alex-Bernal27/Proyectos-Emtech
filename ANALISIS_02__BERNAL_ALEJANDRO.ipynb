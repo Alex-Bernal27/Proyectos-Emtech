{
  "nbformat": 4,
  "nbformat_minor": 0,
  "metadata": {
    "colab": {
      "name": "ANALISIS_02__BERNAL_ALEJANDRO.ipynb",
      "provenance": [],
      "collapsed_sections": []
    },
    "kernelspec": {
      "display_name": "Python 3",
      "language": "python",
      "name": "python3"
    },
    "language_info": {
      "codemirror_mode": {
        "name": "ipython",
        "version": 3
      },
      "file_extension": ".py",
      "mimetype": "text/x-python",
      "name": "python",
      "nbconvert_exporter": "python",
      "pygments_lexer": "ipython3",
      "version": "3.8.8"
    },
    "toc-autonumbering": false,
    "toc-showmarkdowntxt": false
  },
  "cells": [
    {
      "cell_type": "markdown",
      "metadata": {
        "id": "Y7sOxFqoFFVn"
      },
      "source": [
        "![LOGO_EMTECH_final-03.png](data:image/png;base64,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)"
      ]
    },
    {
      "cell_type": "markdown",
      "metadata": {
        "id": "lkU8DyrP70Op"
      },
      "source": [
        "---\n",
        "# **PROYECTO 2. INTRODUCCIÓN AL ANÁLISIS DE DATOS**\n",
        "\n",
        "# **ALEJANDRO BERNAL  NAJERA**\n",
        "\n",
        "---\n",
        "\n",
        "\n"
      ]
    },
    {
      "cell_type": "markdown",
      "metadata": {
        "id": "Gv9aSoZGMFLE"
      },
      "source": [
        "# **Introducción**\n",
        "\n",
        "En esta segunda parte del curso se tocarón temas sobre la manipulacion de listas, tuplas y diccionarios algo que no se habia visto en la parte anterior, tambien funciones que es de las maneras mas comunes de optimizar codigo y son muy utiles para no repetir cierta funcionalidad, por ultimo se vio algunas funciones que se podian hacer con las librerias para abrir archivos de texto y csv.\n",
        "\n",
        "Al final para poner en práctica se propusó el ejercicio donde Synergy Logistics que es una empresa dedicada a la intermediación de servicios de \n",
        "importación y exportación de diferentes productos la cual tiene una base de datos con diferentes columnas de las rutas que toman ciertos productos, para eso se necesita hacer un analisis para dar una mejor estrategia operativa.\n",
        "\n",
        "---"
      ]
    },
    {
      "cell_type": "markdown",
      "metadata": {
        "id": "wmSoz441R5s1"
      },
      "source": [
        "# **Código**\n",
        "\n",
        "La Dirección de Synergy Logistics ha solicitado al equipo operativo, realizar una propuesta que permita enfocar las prioridades de la estrategia operativa 2021; para ello, se plantea analizar la viabilidad de 3 opciones de enfoque: rutas de importación y exportación, medio de transporte utilizado y valor total de importaciones y exportaciones. Considerando que eres el data analyst del equipo, se te solicita que realices un análisis de los siguientes puntos e identifiques cuál(es) de ellos es la mejor opción para la empresa:"
      ]
    },
    {
      "cell_type": "markdown",
      "metadata": {
        "id": "KXnV6B2m7X-k"
      },
      "source": [
        "### **Opción 1)** \n",
        "**Rutas de importación y exportación.** Synergy logistics está \n",
        "considerando la posibilidad de enfocar sus esfuerzos en las 10 rutas más \n",
        "demandadas. Acorde a los flujos de importación y exportación, ¿cuáles son esas \n",
        "10 rutas? ¿le conviene implementar esa estrategia? ¿porqué?"
      ]
    },
    {
      "cell_type": "code",
      "metadata": {
        "id": "gpxlESN93oUb",
        "colab": {
          "base_uri": "https://localhost:8080/",
          "height": 234
        },
        "outputId": "c854d414-f909-470c-8a8f-00ace9573a4a"
      },
      "source": [
        "#importar pandas para la funcion read_csv lea el nombre del archivo y tome la columna register_id como la columna de indices\n",
        "import pandas as pd\n",
        "database = pd.read_csv(\"synergy_logistics_database.csv\", index_col='register_id')\n",
        "database.head()"
      ],
      "execution_count": 210,
      "outputs": [
        {
          "output_type": "execute_result",
          "data": {
            "text/html": [
              "<div>\n",
              "<style scoped>\n",
              "    .dataframe tbody tr th:only-of-type {\n",
              "        vertical-align: middle;\n",
              "    }\n",
              "\n",
              "    .dataframe tbody tr th {\n",
              "        vertical-align: top;\n",
              "    }\n",
              "\n",
              "    .dataframe thead th {\n",
              "        text-align: right;\n",
              "    }\n",
              "</style>\n",
              "<table border=\"1\" class=\"dataframe\">\n",
              "  <thead>\n",
              "    <tr style=\"text-align: right;\">\n",
              "      <th></th>\n",
              "      <th>direction</th>\n",
              "      <th>origin</th>\n",
              "      <th>destination</th>\n",
              "      <th>year</th>\n",
              "      <th>date</th>\n",
              "      <th>product</th>\n",
              "      <th>transport_mode</th>\n",
              "      <th>company_name</th>\n",
              "      <th>total_value</th>\n",
              "    </tr>\n",
              "    <tr>\n",
              "      <th>register_id</th>\n",
              "      <th></th>\n",
              "      <th></th>\n",
              "      <th></th>\n",
              "      <th></th>\n",
              "      <th></th>\n",
              "      <th></th>\n",
              "      <th></th>\n",
              "      <th></th>\n",
              "      <th></th>\n",
              "    </tr>\n",
              "  </thead>\n",
              "  <tbody>\n",
              "    <tr>\n",
              "      <th>1</th>\n",
              "      <td>Exports</td>\n",
              "      <td>Japan</td>\n",
              "      <td>China</td>\n",
              "      <td>2015</td>\n",
              "      <td>31/01/15</td>\n",
              "      <td>Cars</td>\n",
              "      <td>Sea</td>\n",
              "      <td>Honda</td>\n",
              "      <td>33000000</td>\n",
              "    </tr>\n",
              "    <tr>\n",
              "      <th>2</th>\n",
              "      <td>Exports</td>\n",
              "      <td>Japan</td>\n",
              "      <td>China</td>\n",
              "      <td>2015</td>\n",
              "      <td>01/02/15</td>\n",
              "      <td>Cars</td>\n",
              "      <td>Sea</td>\n",
              "      <td>Honda</td>\n",
              "      <td>16000000</td>\n",
              "    </tr>\n",
              "    <tr>\n",
              "      <th>3</th>\n",
              "      <td>Exports</td>\n",
              "      <td>Japan</td>\n",
              "      <td>China</td>\n",
              "      <td>2015</td>\n",
              "      <td>02/02/15</td>\n",
              "      <td>Cars</td>\n",
              "      <td>Sea</td>\n",
              "      <td>Honda</td>\n",
              "      <td>29000000</td>\n",
              "    </tr>\n",
              "    <tr>\n",
              "      <th>4</th>\n",
              "      <td>Exports</td>\n",
              "      <td>Japan</td>\n",
              "      <td>China</td>\n",
              "      <td>2015</td>\n",
              "      <td>03/02/15</td>\n",
              "      <td>Cars</td>\n",
              "      <td>Sea</td>\n",
              "      <td>Honda</td>\n",
              "      <td>14000000</td>\n",
              "    </tr>\n",
              "    <tr>\n",
              "      <th>5</th>\n",
              "      <td>Exports</td>\n",
              "      <td>Japan</td>\n",
              "      <td>China</td>\n",
              "      <td>2015</td>\n",
              "      <td>04/02/15</td>\n",
              "      <td>Cars</td>\n",
              "      <td>Sea</td>\n",
              "      <td>Honda</td>\n",
              "      <td>17000000</td>\n",
              "    </tr>\n",
              "  </tbody>\n",
              "</table>\n",
              "</div>"
            ],
            "text/plain": [
              "            direction origin  ... company_name  total_value\n",
              "register_id                   ...                          \n",
              "1             Exports  Japan  ...        Honda     33000000\n",
              "2             Exports  Japan  ...        Honda     16000000\n",
              "3             Exports  Japan  ...        Honda     29000000\n",
              "4             Exports  Japan  ...        Honda     14000000\n",
              "5             Exports  Japan  ...        Honda     17000000\n",
              "\n",
              "[5 rows x 9 columns]"
            ]
          },
          "metadata": {},
          "execution_count": 210
        }
      ]
    },
    {
      "cell_type": "code",
      "metadata": {
        "id": "-8JcBFg1JyRU"
      },
      "source": [
        "routesDict={}\n",
        "#database[atributo] toma toda columna del dataframe y por cada registro se pasa de uno por uno con la funcion zip a las variables del for\n",
        "for origin, destination, direction,transport in zip(database['origin'],database['destination'],database['direction'],database['transport_mode']):\n",
        "  #Dado que cada ruta(origen y destino) se diferencia por la direccion y el modo de transporte \n",
        "  #las llaves del diccionario se guarda el origen, destino, direccion y modo de transporte y para cada una ir sumando 1 cada vez que se repita\n",
        "  if (origin, destination, direction, transport) in routesDict:\n",
        "    routesDict[origin, destination, direction, transport] += 1\n",
        "  else:\n",
        "    routesDict[origin, destination, direction, transport] = 1"
      ],
      "execution_count": 211,
      "outputs": []
    },
    {
      "cell_type": "code",
      "metadata": {
        "id": "fgsQ2VDLRAAQ"
      },
      "source": [
        "#el diccionario creado lo volvemos una lista para mejor manejo con los proximos pasos\n",
        "routesList = [ [key,routesDict[key]] for key in routesDict.keys() ]"
      ],
      "execution_count": 212,
      "outputs": []
    },
    {
      "cell_type": "code",
      "metadata": {
        "id": "Hj6V_Tc6XUs8"
      },
      "source": [
        "# se itera con la nueva lista para guardarlos en otra lista que traiga solo los datos que sean de importaciones o solo los datos de exportaciones\n",
        "# el orden de los valores es: origen, destino, modo de transporte y el total de veces usadas\n",
        "ImpRoutes = [ [x[0][0], x[0][1], x[0][3], x[1]] for x in routesList if x[0][2] == 'Imports']\n",
        "ExpRoutes = [ [x[0][0], x[0][1], x[0][3], x[1]] for x in routesList if x[0][2] == 'Exports']"
      ],
      "execution_count": 213,
      "outputs": []
    },
    {
      "cell_type": "code",
      "metadata": {
        "id": "IsK7SrZlYf_5"
      },
      "source": [
        "#Ordenar de menor a mayor las listas dato el numero de veces que se usó la ruta\n",
        "ImpRoutes.sort(key=lambda x: x[3], reverse=True)\n",
        "ExpRoutes.sort(key=lambda x: x[3], reverse=True)"
      ],
      "execution_count": 214,
      "outputs": []
    },
    {
      "cell_type": "code",
      "metadata": {
        "colab": {
          "base_uri": "https://localhost:8080/",
          "height": 374
        },
        "id": "UpV3Dx9YROxH",
        "outputId": "049bdaf2-ab0c-4016-b695-7c838ab57743"
      },
      "source": [
        "#Usando la libreria de pandas, la lista que tenemos la convertimos a un dataframe para visualizar la tabla mejor\n",
        "bestExpRoutes = pd.DataFrame(ExpRoutes, columns=['Origen','Destino','Modo de Transporte','#Veces usada'])\n",
        "print(\"10 RUTAS MAS DEMANDADAS EXPORTACION\")\n",
        "#con el head 10 se muestran solo los 10 mejores ya que estan ordenados\n",
        "bestExpRoutes.head(10)"
      ],
      "execution_count": 215,
      "outputs": [
        {
          "output_type": "stream",
          "name": "stdout",
          "text": [
            "10 RUTAS MAS DEMANDADAS EXPORTACION\n"
          ]
        },
        {
          "output_type": "execute_result",
          "data": {
            "text/html": [
              "<div>\n",
              "<style scoped>\n",
              "    .dataframe tbody tr th:only-of-type {\n",
              "        vertical-align: middle;\n",
              "    }\n",
              "\n",
              "    .dataframe tbody tr th {\n",
              "        vertical-align: top;\n",
              "    }\n",
              "\n",
              "    .dataframe thead th {\n",
              "        text-align: right;\n",
              "    }\n",
              "</style>\n",
              "<table border=\"1\" class=\"dataframe\">\n",
              "  <thead>\n",
              "    <tr style=\"text-align: right;\">\n",
              "      <th></th>\n",
              "      <th>Origen</th>\n",
              "      <th>Destino</th>\n",
              "      <th>Modo de Transporte</th>\n",
              "      <th>#Veces usada</th>\n",
              "    </tr>\n",
              "  </thead>\n",
              "  <tbody>\n",
              "    <tr>\n",
              "      <th>0</th>\n",
              "      <td>South Korea</td>\n",
              "      <td>Vietnam</td>\n",
              "      <td>Sea</td>\n",
              "      <td>497</td>\n",
              "    </tr>\n",
              "    <tr>\n",
              "      <th>1</th>\n",
              "      <td>USA</td>\n",
              "      <td>Netherlands</td>\n",
              "      <td>Sea</td>\n",
              "      <td>436</td>\n",
              "    </tr>\n",
              "    <tr>\n",
              "      <th>2</th>\n",
              "      <td>Netherlands</td>\n",
              "      <td>Belgium</td>\n",
              "      <td>Road</td>\n",
              "      <td>374</td>\n",
              "    </tr>\n",
              "    <tr>\n",
              "      <th>3</th>\n",
              "      <td>China</td>\n",
              "      <td>Mexico</td>\n",
              "      <td>Air</td>\n",
              "      <td>330</td>\n",
              "    </tr>\n",
              "    <tr>\n",
              "      <th>4</th>\n",
              "      <td>Japan</td>\n",
              "      <td>Brazil</td>\n",
              "      <td>Sea</td>\n",
              "      <td>306</td>\n",
              "    </tr>\n",
              "    <tr>\n",
              "      <th>5</th>\n",
              "      <td>Germany</td>\n",
              "      <td>France</td>\n",
              "      <td>Road</td>\n",
              "      <td>299</td>\n",
              "    </tr>\n",
              "    <tr>\n",
              "      <th>6</th>\n",
              "      <td>South Korea</td>\n",
              "      <td>Japan</td>\n",
              "      <td>Sea</td>\n",
              "      <td>279</td>\n",
              "    </tr>\n",
              "    <tr>\n",
              "      <th>7</th>\n",
              "      <td>Australia</td>\n",
              "      <td>Singapore</td>\n",
              "      <td>Sea</td>\n",
              "      <td>273</td>\n",
              "    </tr>\n",
              "    <tr>\n",
              "      <th>8</th>\n",
              "      <td>Canada</td>\n",
              "      <td>Mexico</td>\n",
              "      <td>Rail</td>\n",
              "      <td>261</td>\n",
              "    </tr>\n",
              "    <tr>\n",
              "      <th>9</th>\n",
              "      <td>China</td>\n",
              "      <td>Spain</td>\n",
              "      <td>Air</td>\n",
              "      <td>250</td>\n",
              "    </tr>\n",
              "  </tbody>\n",
              "</table>\n",
              "</div>"
            ],
            "text/plain": [
              "        Origen      Destino Modo de Transporte  #Veces usada\n",
              "0  South Korea      Vietnam                Sea           497\n",
              "1          USA  Netherlands                Sea           436\n",
              "2  Netherlands      Belgium               Road           374\n",
              "3        China       Mexico                Air           330\n",
              "4        Japan       Brazil                Sea           306\n",
              "5      Germany       France               Road           299\n",
              "6  South Korea        Japan                Sea           279\n",
              "7    Australia    Singapore                Sea           273\n",
              "8       Canada       Mexico               Rail           261\n",
              "9        China        Spain                Air           250"
            ]
          },
          "metadata": {},
          "execution_count": 215
        }
      ]
    },
    {
      "cell_type": "code",
      "metadata": {
        "colab": {
          "base_uri": "https://localhost:8080/",
          "height": 374
        },
        "id": "Py4Szg-_Rm_z",
        "outputId": "52aac385-5344-4c6f-fad5-55391260c802"
      },
      "source": [
        "#Usando la libreria de pandas, la lista que tenemos la convertimos a un dataframe para visualizar la tabla mejor\n",
        "bestImpRoutes = pd.DataFrame(ImpRoutes, columns=['Origen','Destino','Modo de Transporte','#Veces usada'])\n",
        "print(\"10 RUTAS MAS DEMANDADAS IMPORTACION\")\n",
        "#con el head 10 se muestran solo los 10 mejores ya que estan ordenados\n",
        "bestImpRoutes.head(10)"
      ],
      "execution_count": 216,
      "outputs": [
        {
          "output_type": "stream",
          "name": "stdout",
          "text": [
            "10 RUTAS MAS DEMANDADAS IMPORTACION\n"
          ]
        },
        {
          "output_type": "execute_result",
          "data": {
            "text/html": [
              "<div>\n",
              "<style scoped>\n",
              "    .dataframe tbody tr th:only-of-type {\n",
              "        vertical-align: middle;\n",
              "    }\n",
              "\n",
              "    .dataframe tbody tr th {\n",
              "        vertical-align: top;\n",
              "    }\n",
              "\n",
              "    .dataframe thead th {\n",
              "        text-align: right;\n",
              "    }\n",
              "</style>\n",
              "<table border=\"1\" class=\"dataframe\">\n",
              "  <thead>\n",
              "    <tr style=\"text-align: right;\">\n",
              "      <th></th>\n",
              "      <th>Origen</th>\n",
              "      <th>Destino</th>\n",
              "      <th>Modo de Transporte</th>\n",
              "      <th>#Veces usada</th>\n",
              "    </tr>\n",
              "  </thead>\n",
              "  <tbody>\n",
              "    <tr>\n",
              "      <th>0</th>\n",
              "      <td>Singapore</td>\n",
              "      <td>Thailand</td>\n",
              "      <td>Sea</td>\n",
              "      <td>273</td>\n",
              "    </tr>\n",
              "    <tr>\n",
              "      <th>1</th>\n",
              "      <td>Germany</td>\n",
              "      <td>China</td>\n",
              "      <td>Sea</td>\n",
              "      <td>233</td>\n",
              "    </tr>\n",
              "    <tr>\n",
              "      <th>2</th>\n",
              "      <td>China</td>\n",
              "      <td>Japan</td>\n",
              "      <td>Air</td>\n",
              "      <td>210</td>\n",
              "    </tr>\n",
              "    <tr>\n",
              "      <th>3</th>\n",
              "      <td>Japan</td>\n",
              "      <td>Mexico</td>\n",
              "      <td>Sea</td>\n",
              "      <td>206</td>\n",
              "    </tr>\n",
              "    <tr>\n",
              "      <th>4</th>\n",
              "      <td>Malaysia</td>\n",
              "      <td>Thailand</td>\n",
              "      <td>Rail</td>\n",
              "      <td>195</td>\n",
              "    </tr>\n",
              "    <tr>\n",
              "      <th>5</th>\n",
              "      <td>China</td>\n",
              "      <td>Thailand</td>\n",
              "      <td>Road</td>\n",
              "      <td>145</td>\n",
              "    </tr>\n",
              "    <tr>\n",
              "      <th>6</th>\n",
              "      <td>Spain</td>\n",
              "      <td>Germany</td>\n",
              "      <td>Road</td>\n",
              "      <td>142</td>\n",
              "    </tr>\n",
              "    <tr>\n",
              "      <th>7</th>\n",
              "      <td>China</td>\n",
              "      <td>United Arab Emirates</td>\n",
              "      <td>Sea</td>\n",
              "      <td>114</td>\n",
              "    </tr>\n",
              "    <tr>\n",
              "      <th>8</th>\n",
              "      <td>Brazil</td>\n",
              "      <td>China</td>\n",
              "      <td>Sea</td>\n",
              "      <td>113</td>\n",
              "    </tr>\n",
              "    <tr>\n",
              "      <th>9</th>\n",
              "      <td>USA</td>\n",
              "      <td>Thailand</td>\n",
              "      <td>Sea</td>\n",
              "      <td>109</td>\n",
              "    </tr>\n",
              "  </tbody>\n",
              "</table>\n",
              "</div>"
            ],
            "text/plain": [
              "      Origen               Destino Modo de Transporte  #Veces usada\n",
              "0  Singapore              Thailand                Sea           273\n",
              "1    Germany                 China                Sea           233\n",
              "2      China                 Japan                Air           210\n",
              "3      Japan                Mexico                Sea           206\n",
              "4   Malaysia              Thailand               Rail           195\n",
              "5      China              Thailand               Road           145\n",
              "6      Spain               Germany               Road           142\n",
              "7      China  United Arab Emirates                Sea           114\n",
              "8     Brazil                 China                Sea           113\n",
              "9        USA              Thailand                Sea           109"
            ]
          },
          "metadata": {},
          "execution_count": 216
        }
      ]
    },
    {
      "cell_type": "markdown",
      "metadata": {
        "id": "sIzW8e4ZP8MU"
      },
      "source": [
        "#### **¿Cuáles son esas 10 rutas?**\n",
        "\n",
        "R. Para las mejores rutas en exportaciones la tabla BestExpRoutes, Para las mejores rutas en importaciones la tabla BestImpRoutes\n"
      ]
    },
    {
      "cell_type": "markdown",
      "metadata": {
        "id": "dCO01P0pTwo8"
      },
      "source": [
        "#### **¿Le conviene implementar esa estrategia? ¿porqué?**\n",
        "\n",
        "R. A mi parecer si porque si son las mas usadas quiere decir que son las que tienen mejor ganancia."
      ]
    },
    {
      "cell_type": "markdown",
      "metadata": {
        "id": "t84H7gb68qIS"
      },
      "source": [
        "### **Opción 2)**\n",
        "**Medio de transporte utilizado.** ¿Cuáles son los 3 medios de transporte \n",
        "más importantes para Synergy logistics considerando el valor de las \n",
        "importaciones y exportaciones? ¿Cuál es medio de transporte que podrían \n",
        "reducir? "
      ]
    },
    {
      "cell_type": "code",
      "metadata": {
        "id": "BonU-Tq08oJt"
      },
      "source": [
        "transportsDict = {}\n",
        "#database[atributo] toma toda columna del dataframe y por cada registro se pasa de uno por uno con la funcion zip a las variables del for\n",
        "for transport, direction, total in zip(database['transport_mode'],database['direction'], database['total_value']):\n",
        "  #El modo de transporte se toma como la llave de diccionario mientras en cada uno se suma el total_value para ver cual es la que genera mas\n",
        "  #aqui se suman los valores ya sean importaciones o exportaciones\n",
        "  if (transport, direction) in transportsDict:\n",
        "    transportsDict[transport, direction] += total\n",
        "  else:\n",
        "    transportsDict[transport, direction] = total"
      ],
      "execution_count": 217,
      "outputs": []
    },
    {
      "cell_type": "code",
      "metadata": {
        "id": "rKXxe6yL6f9r"
      },
      "source": [
        "#se crea una lista dado los datos del diccionario, obteniendo la llave y el valor\n",
        "transportList = [ [key,transportsDict[key]] for key in transportsDict.keys() ]"
      ],
      "execution_count": 218,
      "outputs": []
    },
    {
      "cell_type": "code",
      "metadata": {
        "id": "Vx6BsDfjDeDH"
      },
      "source": [
        "# se itera con la nueva lista para guardarlos en otra lista que traiga solo los datos que sean de importaciones o solo los datos de exportaciones\n",
        "# el orden de los valores es: transporte y la sumatoria del total_value\n",
        "ImpTransport = [ [x[0][0], x[1]] for x in transportList if x[0][1] == 'Imports']\n",
        "ExpTransport = [ [x[0][0], x[1]] for x in transportList if x[0][1] == 'Exports']"
      ],
      "execution_count": 219,
      "outputs": []
    },
    {
      "cell_type": "code",
      "metadata": {
        "id": "mVljbZGcDe-n"
      },
      "source": [
        "#Ordenar de menor a mayor las listas dado el total que genero cada modo de transporte\n",
        "ImpTransport.sort(key=lambda x: x[1],reverse=True)\n",
        "ExpTransport.sort(key=lambda x: x[1],reverse=True)"
      ],
      "execution_count": 220,
      "outputs": []
    },
    {
      "cell_type": "code",
      "metadata": {
        "colab": {
          "base_uri": "https://localhost:8080/",
          "height": 462
        },
        "id": "l5XLoE5YOdVW",
        "outputId": "a6c424a7-e11f-49e9-95d4-9e493517ce95"
      },
      "source": [
        "#Usando la libreria de pandas, la lista que tenemos la convertimos a un dataframe para visualizar la tabla mejor\n",
        "bestExpTransports = pd.DataFrame(ExpTransport, columns=['Modo de Transporte', 'Total'])\n",
        "print(\"MEDIOS DE TRANSPORTE MAS PARA EXPORTACIONES\")\n",
        "#con el head 3 se muestran solo los 3 modos de transporte mejores\n",
        "import seaborn as sns\n",
        "sns.barplot(x='Modo de Transporte', y='Total', data=bestExpTransports)\n",
        "bestExpTransports"
      ],
      "execution_count": 221,
      "outputs": [
        {
          "output_type": "stream",
          "name": "stdout",
          "text": [
            "MEDIOS DE TRANSPORTE MAS PARA EXPORTACIONES\n"
          ]
        },
        {
          "output_type": "execute_result",
          "data": {
            "text/html": [
              "<div>\n",
              "<style scoped>\n",
              "    .dataframe tbody tr th:only-of-type {\n",
              "        vertical-align: middle;\n",
              "    }\n",
              "\n",
              "    .dataframe tbody tr th {\n",
              "        vertical-align: top;\n",
              "    }\n",
              "\n",
              "    .dataframe thead th {\n",
              "        text-align: right;\n",
              "    }\n",
              "</style>\n",
              "<table border=\"1\" class=\"dataframe\">\n",
              "  <thead>\n",
              "    <tr style=\"text-align: right;\">\n",
              "      <th></th>\n",
              "      <th>Modo de Transporte</th>\n",
              "      <th>Total</th>\n",
              "    </tr>\n",
              "  </thead>\n",
              "  <tbody>\n",
              "    <tr>\n",
              "      <th>0</th>\n",
              "      <td>Sea</td>\n",
              "      <td>65592622000</td>\n",
              "    </tr>\n",
              "    <tr>\n",
              "      <th>1</th>\n",
              "      <td>Rail</td>\n",
              "      <td>34505043000</td>\n",
              "    </tr>\n",
              "    <tr>\n",
              "      <th>2</th>\n",
              "      <td>Air</td>\n",
              "      <td>32785147000</td>\n",
              "    </tr>\n",
              "    <tr>\n",
              "      <th>3</th>\n",
              "      <td>Road</td>\n",
              "      <td>27280486000</td>\n",
              "    </tr>\n",
              "  </tbody>\n",
              "</table>\n",
              "</div>"
            ],
            "text/plain": [
              "  Modo de Transporte        Total\n",
              "0                Sea  65592622000\n",
              "1               Rail  34505043000\n",
              "2                Air  32785147000\n",
              "3               Road  27280486000"
            ]
          },
          "metadata": {},
          "execution_count": 221
        },
        {
          "output_type": "display_data",
          "data": {
            "image/png": "[encoded data removed]",
            "text/plain": [
              "<Figure size 432x288 with 1 Axes>"
            ]
          },
          "metadata": {
            "needs_background": "light"
          }
        }
      ]
    },
    {
      "cell_type": "code",
      "metadata": {
        "colab": {
          "base_uri": "https://localhost:8080/",
          "height": 462
        },
        "id": "AyaU5-d2FuyJ",
        "outputId": "fe2f4f28-a69f-4b65-9b76-9b9c595b3bed"
      },
      "source": [
        "#Usando la libreria de pandas, la lista que tenemos la convertimos a un dataframe para visualizar la tabla mejor\n",
        "bestImpTransports = pd.DataFrame(ImpTransport, columns=['Modo de Transporte', 'Total'])\n",
        "print(\"MEDIOS DE TRANSPORTE PARA IMPORTACIONES\")\n",
        "#con el head 3 se muestran solo los 3 modos de transporte mejores\n",
        "import seaborn as sns\n",
        "sns.barplot(x='Modo de Transporte', y='Total', data=bestImpTransports)\n",
        "bestImpTransports"
      ],
      "execution_count": 222,
      "outputs": [
        {
          "output_type": "stream",
          "name": "stdout",
          "text": [
            "MEDIOS DE TRANSPORTE PARA IMPORTACIONES\n"
          ]
        },
        {
          "output_type": "execute_result",
          "data": {
            "text/html": [
              "<div>\n",
              "<style scoped>\n",
              "    .dataframe tbody tr th:only-of-type {\n",
              "        vertical-align: middle;\n",
              "    }\n",
              "\n",
              "    .dataframe tbody tr th {\n",
              "        vertical-align: top;\n",
              "    }\n",
              "\n",
              "    .dataframe thead th {\n",
              "        text-align: right;\n",
              "    }\n",
              "</style>\n",
              "<table border=\"1\" class=\"dataframe\">\n",
              "  <thead>\n",
              "    <tr style=\"text-align: right;\">\n",
              "      <th></th>\n",
              "      <th>Modo de Transporte</th>\n",
              "      <th>Total</th>\n",
              "    </tr>\n",
              "  </thead>\n",
              "  <tbody>\n",
              "    <tr>\n",
              "      <th>0</th>\n",
              "      <td>Sea</td>\n",
              "      <td>34938000000</td>\n",
              "    </tr>\n",
              "    <tr>\n",
              "      <th>1</th>\n",
              "      <td>Rail</td>\n",
              "      <td>9123000000</td>\n",
              "    </tr>\n",
              "    <tr>\n",
              "      <th>2</th>\n",
              "      <td>Road</td>\n",
              "      <td>5990000000</td>\n",
              "    </tr>\n",
              "    <tr>\n",
              "      <th>3</th>\n",
              "      <td>Air</td>\n",
              "      <td>5477000000</td>\n",
              "    </tr>\n",
              "  </tbody>\n",
              "</table>\n",
              "</div>"
            ],
            "text/plain": [
              "  Modo de Transporte        Total\n",
              "0                Sea  34938000000\n",
              "1               Rail   9123000000\n",
              "2               Road   5990000000\n",
              "3                Air   5477000000"
            ]
          },
          "metadata": {},
          "execution_count": 222
        },
        {
          "output_type": "display_data",
          "data": {
            "image/png": "[encoded data removed]",
            "text/plain": [
              "<Figure size 432x288 with 1 Axes>"
            ]
          },
          "metadata": {
            "needs_background": "light"
          }
        }
      ]
    },
    {
      "cell_type": "markdown",
      "metadata": {
        "id": "bXsIyWWLPHOL"
      },
      "source": [
        "#### **¿Cuáles son los 3 medios de transporte más importantes para Synergy logistics considerando el valor de las importaciones y exportaciones?**\n",
        "\n",
        "R. como se muestra en las tablas anteriores, para exportacion es: son Mar, Riel y Aire los que generan mas y para las importaciones son: Mar, Riel y carretera."
      ]
    },
    {
      "cell_type": "markdown",
      "metadata": {
        "id": "-49nL-9rT2eU"
      },
      "source": [
        "#### **¿Cuál es medio de transporte que podrían reducir?**\n",
        "\n",
        "R. Para las exportaciones el que genera menos ganancias es por carretera pero para las importaciones el que genera menos es por aire."
      ]
    },
    {
      "cell_type": "markdown",
      "metadata": {
        "id": "SZuasK4j8yL9"
      },
      "source": [
        "### **Opción 3)**\n",
        "**Valor total de importaciones y exportaciones.** Si Synergy Logistics \n",
        "quisiera enfocarse en los países que le generan el 80% del valor de las \n",
        "exportaciones e importaciones ¿en qué grupo de países debería enfocar sus \n",
        "esfuerzos?"
      ]
    },
    {
      "cell_type": "code",
      "metadata": {
        "id": "dR5-TWa-5bGA"
      },
      "source": [
        "countryDict = {}\n",
        "#database[atributo] toma toda columna del dataframe y por cada registro se pasa de uno por uno con la funcion zip a las variables del for\n",
        "for origin, direction, total in zip(database['origin'], database['direction'], database['total_value']):\n",
        "  #el pais de origen se toma como la llave de diccionario mientras en cada uno se suma el total_value para ver cual es la que genera mas\n",
        "  #aqui se suman los valores ya sean importaciones o exportaciones\n",
        "  if (origin, direction) in countryDict:\n",
        "    countryDict[origin, direction] += total\n",
        "  else:\n",
        "    countryDict[origin, direction] = total"
      ],
      "execution_count": 223,
      "outputs": []
    },
    {
      "cell_type": "code",
      "metadata": {
        "id": "t3ylBVTr6OFP"
      },
      "source": [
        "#se crea una lista dado los datos del diccionario, obteniendo la llave y el valor\n",
        "countryList = [ [key,countryDict[key]] for key in countryDict.keys() ]"
      ],
      "execution_count": 224,
      "outputs": []
    },
    {
      "cell_type": "code",
      "metadata": {
        "id": "M9JG-sF55-yu"
      },
      "source": [
        "# se itera con la nueva lista para guardarlos en otra lista que traiga solo los datos que sean de importaciones o solo los datos de exportaciones\n",
        "# el orden de los valores es: origen y la sumatoria del total_value\n",
        "ImpCountry = [ [x[0][0], x[1]] for x in countryList if x[0][1] == 'Imports']\n",
        "ExpCountry = [ [x[0][0], x[1]] for x in countryList if x[0][1] == 'Exports']"
      ],
      "execution_count": 225,
      "outputs": []
    },
    {
      "cell_type": "code",
      "metadata": {
        "id": "-d8TfAJF6DZ8"
      },
      "source": [
        "#Ordenar de menor a mayor las listas dado el total que genero cada pais\n",
        "ImpCountry.sort(key=lambda x: x[1],reverse=True)\n",
        "ExpCountry.sort(key=lambda x: x[1],reverse=True)"
      ],
      "execution_count": 226,
      "outputs": []
    },
    {
      "cell_type": "code",
      "metadata": {
        "id": "B43QrIBi7B6d"
      },
      "source": [
        "def bestCountries(countryList):\n",
        "  #de la suma de los totales de todos los paises obtenemos cuanto es el 80%\n",
        "  #obtenemos la lista de solo los totales, hacemos la sumatoria y multiplicamos *.8\n",
        "  hundredPercent = sum([x[1] for x in countryList])\n",
        "  eightyPercent = hundredPercent * .8\n",
        "  totals = 0\n",
        "  country80Percent = []\n",
        "  #en la variable totales se va sumando el total de cada pais antes de ser puesto en la lista para verificar si no se pasa del 80%\n",
        "  #si no sobrepasa el valor a el 80% del total, el pais entra al if y en la lista vacia de countryPorcentaje80 se va agregando \n",
        "  for country in countryList:\n",
        "    totals += country[1]\n",
        "    if totals <= eightyPercent:\n",
        "      country80Percent.append([country[0],country[1],(country[1]*100/hundredPercent)])\n",
        "\n",
        "  ##Usando la libreria de pandas, la lista que tenemos la convertimos a un dataframe para visualizar la tabla mejor\n",
        "  bestCountries = pd.DataFrame(country80Percent, columns=['Pais(Origen)', 'Total','%'])\n",
        "  print(\"Porcentaje: \", sum(bestCountries['%']))\n",
        "  return bestCountries"
      ],
      "execution_count": 227,
      "outputs": []
    },
    {
      "cell_type": "code",
      "metadata": {
        "id": "A5Ye02vPPn7-",
        "colab": {
          "base_uri": "https://localhost:8080/",
          "height": 298
        },
        "outputId": "1a94e3d1-582c-4ea3-bb03-deba069a9e5e"
      },
      "source": [
        "print(\"PAISES (SOLO EXPORTACIONES) ORDENADOS DE FORMA DESCENDENTE QUE OCUPAN EL 80% DEL TOTAL DE LAS GANANCIAS\")\n",
        "#se muestran solo los paises que generan hasta el 80%(75.7%) del total de las ganancias (verificar en la grafica de arriba)\n",
        "bestCountries(ExpCountry)"
      ],
      "execution_count": 228,
      "outputs": [
        {
          "output_type": "stream",
          "name": "stdout",
          "text": [
            "PAISES (SOLO EXPORTACIONES) ORDENADOS DE FORMA DESCENDENTE QUE OCUPAN EL 80% DEL TOTAL DE LAS GANANCIAS\n",
            "Porcentaje:  75.59974133399776\n"
          ]
        },
        {
          "output_type": "execute_result",
          "data": {
            "text/html": [
              "<div>\n",
              "<style scoped>\n",
              "    .dataframe tbody tr th:only-of-type {\n",
              "        vertical-align: middle;\n",
              "    }\n",
              "\n",
              "    .dataframe tbody tr th {\n",
              "        vertical-align: top;\n",
              "    }\n",
              "\n",
              "    .dataframe thead th {\n",
              "        text-align: right;\n",
              "    }\n",
              "</style>\n",
              "<table border=\"1\" class=\"dataframe\">\n",
              "  <thead>\n",
              "    <tr style=\"text-align: right;\">\n",
              "      <th></th>\n",
              "      <th>Pais(Origen)</th>\n",
              "      <th>Total</th>\n",
              "      <th>%</th>\n",
              "    </tr>\n",
              "  </thead>\n",
              "  <tbody>\n",
              "    <tr>\n",
              "      <th>0</th>\n",
              "      <td>China</td>\n",
              "      <td>32977046000</td>\n",
              "      <td>20.589640</td>\n",
              "    </tr>\n",
              "    <tr>\n",
              "      <th>1</th>\n",
              "      <td>France</td>\n",
              "      <td>18614332000</td>\n",
              "      <td>11.622096</td>\n",
              "    </tr>\n",
              "    <tr>\n",
              "      <th>2</th>\n",
              "      <td>USA</td>\n",
              "      <td>18355306000</td>\n",
              "      <td>11.460370</td>\n",
              "    </tr>\n",
              "    <tr>\n",
              "      <th>3</th>\n",
              "      <td>South Korea</td>\n",
              "      <td>14621146000</td>\n",
              "      <td>9.128899</td>\n",
              "    </tr>\n",
              "    <tr>\n",
              "      <th>4</th>\n",
              "      <td>Russia</td>\n",
              "      <td>13223000000</td>\n",
              "      <td>8.255949</td>\n",
              "    </tr>\n",
              "    <tr>\n",
              "      <th>5</th>\n",
              "      <td>Japan</td>\n",
              "      <td>11948976000</td>\n",
              "      <td>7.460496</td>\n",
              "    </tr>\n",
              "    <tr>\n",
              "      <th>6</th>\n",
              "      <td>Germany</td>\n",
              "      <td>11343233000</td>\n",
              "      <td>7.082292</td>\n",
              "    </tr>\n",
              "  </tbody>\n",
              "</table>\n",
              "</div>"
            ],
            "text/plain": [
              "  Pais(Origen)        Total          %\n",
              "0        China  32977046000  20.589640\n",
              "1       France  18614332000  11.622096\n",
              "2          USA  18355306000  11.460370\n",
              "3  South Korea  14621146000   9.128899\n",
              "4       Russia  13223000000   8.255949\n",
              "5        Japan  11948976000   7.460496\n",
              "6      Germany  11343233000   7.082292"
            ]
          },
          "metadata": {},
          "execution_count": 228
        }
      ]
    },
    {
      "cell_type": "code",
      "metadata": {
        "colab": {
          "base_uri": "https://localhost:8080/",
          "height": 298
        },
        "id": "dQs0WTzv8ajB",
        "outputId": "1ca1f0e6-0c65-4955-8427-27ed271f6b25"
      },
      "source": [
        "print(\"PAISES (SOLO IMPORTACIONES) ORDENADOS DE FORMA DESCENDENTE QUE OCUPAN EL 80% DEL TOTAL DE LAS GANANCIAS\")\n",
        "#se muestran solo los paises que general hasta el 80% (76.3%) del total de las ganancias\n",
        "bestCountries(ImpCountry)"
      ],
      "execution_count": 229,
      "outputs": [
        {
          "output_type": "stream",
          "name": "stdout",
          "text": [
            "PAISES (SOLO IMPORTACIONES) ORDENADOS DE FORMA DESCENDENTE QUE OCUPAN EL 80% DEL TOTAL DE LAS GANANCIAS\n",
            "Porcentaje:  76.34886903904336\n"
          ]
        },
        {
          "output_type": "execute_result",
          "data": {
            "text/html": [
              "<div>\n",
              "<style scoped>\n",
              "    .dataframe tbody tr th:only-of-type {\n",
              "        vertical-align: middle;\n",
              "    }\n",
              "\n",
              "    .dataframe tbody tr th {\n",
              "        vertical-align: top;\n",
              "    }\n",
              "\n",
              "    .dataframe thead th {\n",
              "        text-align: right;\n",
              "    }\n",
              "</style>\n",
              "<table border=\"1\" class=\"dataframe\">\n",
              "  <thead>\n",
              "    <tr style=\"text-align: right;\">\n",
              "      <th></th>\n",
              "      <th>Pais(Origen)</th>\n",
              "      <th>Total</th>\n",
              "      <th>%</th>\n",
              "    </tr>\n",
              "  </thead>\n",
              "  <tbody>\n",
              "    <tr>\n",
              "      <th>0</th>\n",
              "      <td>China</td>\n",
              "      <td>12233000000</td>\n",
              "      <td>22.030327</td>\n",
              "    </tr>\n",
              "    <tr>\n",
              "      <th>1</th>\n",
              "      <td>Japan</td>\n",
              "      <td>8094000000</td>\n",
              "      <td>14.576430</td>\n",
              "    </tr>\n",
              "    <tr>\n",
              "      <th>2</th>\n",
              "      <td>USA</td>\n",
              "      <td>5291000000</td>\n",
              "      <td>9.528526</td>\n",
              "    </tr>\n",
              "    <tr>\n",
              "      <th>3</th>\n",
              "      <td>Mexico</td>\n",
              "      <td>4621000000</td>\n",
              "      <td>8.321928</td>\n",
              "    </tr>\n",
              "    <tr>\n",
              "      <th>4</th>\n",
              "      <td>Germany</td>\n",
              "      <td>4250000000</td>\n",
              "      <td>7.653796</td>\n",
              "    </tr>\n",
              "    <tr>\n",
              "      <th>5</th>\n",
              "      <td>Singapore</td>\n",
              "      <td>4017000000</td>\n",
              "      <td>7.234188</td>\n",
              "    </tr>\n",
              "    <tr>\n",
              "      <th>6</th>\n",
              "      <td>South Korea</td>\n",
              "      <td>3889000000</td>\n",
              "      <td>7.003674</td>\n",
              "    </tr>\n",
              "  </tbody>\n",
              "</table>\n",
              "</div>"
            ],
            "text/plain": [
              "  Pais(Origen)        Total          %\n",
              "0        China  12233000000  22.030327\n",
              "1        Japan   8094000000  14.576430\n",
              "2          USA   5291000000   9.528526\n",
              "3       Mexico   4621000000   8.321928\n",
              "4      Germany   4250000000   7.653796\n",
              "5    Singapore   4017000000   7.234188\n",
              "6  South Korea   3889000000   7.003674"
            ]
          },
          "metadata": {},
          "execution_count": 229
        }
      ]
    },
    {
      "cell_type": "markdown",
      "metadata": {
        "id": "bz_wrI9hRLx3"
      },
      "source": [
        "#### **¿En qué grupo de países debería enfocar sus esfuerzos?**\n",
        "\n",
        "R. Dado los datos obtenidos de los totales por cada pais de origen los paises que se deberian enfocar mas sus esfuerzos estan en la tablas tablas de arriba divididas por exportacion e importaciones.\n",
        "\n",
        "---"
      ]
    },
    {
      "cell_type": "markdown",
      "metadata": {
        "id": "zOQjI8_EMqxG"
      },
      "source": [
        "# **Opción sugerida como base de la estrategia de Synergy logistics**"
      ]
    },
    {
      "cell_type": "markdown",
      "metadata": {
        "id": "7BSoPfRRb3FK"
      },
      "source": [
        "Con la opcion 1 nos dimos cuenta cuales con las rutas que mas convienen usar para las exportaciones e importaciones, entonces al sacar este analisis me parece buena la estrategia de seguir usando mas estas rutas porque si se usan seguido podemos seguir teniendo un balance en las ganancias pero si ocupamos mejorar los ingresos el analisis estaria mejor hacerlos en base al valor total que es nuestra ultima columna del dataset.\n",
        "\n",
        "En la opcion dos obtuvimos los medios de transporte que generan mas valor y a mi parecer esta estrategia esta bien usarla ya que estan basando su enfoque en el dinero y asi podria reducir los viajes de los que no estan generando tanto y si es posible cambiar ese medio de transporde por los que si generan mas.\n",
        "\n",
        "Por ultimo para la opcion 3 los paises que se deben enfocar los esfuerzos, la estrategia de escoger los mayores que generen el 80% de todas las ganancias es buena estrategia pero yo la complementaria con que tambien se vea la cantidad de paises mas demandados, para ver si son mas demandados y tienen buen ingreso basarme mas en esos.\n",
        "\n",
        "---"
      ]
    },
    {
      "cell_type": "markdown",
      "metadata": {
        "id": "tcLfif6jMgel"
      },
      "source": [
        "# **Conclusión**"
      ]
    },
    {
      "cell_type": "markdown",
      "metadata": {
        "id": "g0IfphPEb7WX"
      },
      "source": [
        "\n",
        "Me pareció muy buena idea sacar un analisis asi, aunque se pueden obtener  demuchas maneras, este tipo de analisis son lo suficientemente buenas para poner aprueba los conocimientos de esta segunda parte del curso, aparte creo que este tipo de problemas o analisis siempre se pueden ocupar en una empresa para demostrar como van o ayudar para saber cuales estrategias tomar en ciertas situaciones para mejorar e rendimiento o reducir algunos riesgos.\n",
        "\n",
        "Con el proyecto pienso que se cumplió muy bien los objetivos del curso y que nos ayudará mucho para un futuro ser un buen data scientist.\n",
        "\n",
        "---"
      ]
    }
  ]
}